{
 "cells": [
  {
   "cell_type": "code",
   "execution_count": 12,
   "id": "62a28106-186d-48d5-b5b6-a54a726b9054",
   "metadata": {},
   "outputs": [],
   "source": [
    "import tensorflow as tf\n",
    "from tensorflow.keras import layers\n",
    "from keras.preprocessing import image\n",
    "import tensorflow.keras as keras\n",
    "import numpy as np\n",
    "import matplotlib.pyplot as plt\n",
    "import os\n",
    "import pynput\n",
    "import time#暫停時間等功能\n",
    "import multiprocessing#多進程處理\n",
    "from PIL import ImageGrab#抓取螢幕截圖\n",
    "import uuid#隨機生成唯一ID"
   ]
  },
  {
   "cell_type": "code",
   "execution_count": null,
   "id": "a19b44ab-c4dd-48fa-a7d4-e7886f5ea1a7",
   "metadata": {},
   "outputs": [],
   "source": [
    "img = ImageGrab.grab((0,200,1920,880))  # 擷取整個螢幕\n",
    "time.sleep(10)\n",
    "plt.imshow(img)"
   ]
  },
  {
   "cell_type": "code",
   "execution_count": 21,
   "id": "b7d38c5d",
   "metadata": {},
   "outputs": [
    {
     "name": "stdout",
     "output_type": "stream",
     "text": [
      "已按下空白鍵，準備結束截圖程式...\n"
     ]
    }
   ],
   "source": [
    "\n",
    "dataset_file_name = 'dataset'\n",
    "if not os.path.exists(dataset_file_name):\n",
    "        os.makedirs(dataset_file_name)\n",
    "\n",
    "def auto_take_screenshot():\n",
    "    print(\"截圖\")\n",
    "    #while True:\n",
    "       # data_name = os.path.join(dataset_file_name, f'1,{uuid.uuid4().hex}.png')\n",
    "       # img = ImageGrab.grab((0, 200, 1920, 880))  # 擷取螢幕指定區域\n",
    "       # img.save(data_name)\n",
    "      #  print(\"截圖\")\n",
    "      #  time.sleep(2)\n",
    "\n",
    "# 定義鍵盤監聽事件\n",
    "def on_press(key):\n",
    "    if key == pynput.keyboard.Key.space:\n",
    "        print(\"已按下空白鍵，準備結束截圖程式...\")\n",
    "        auto_screenshot_process.terminate()\n",
    "        return False\n",
    "\n",
    "# 啟動截圖子進程\n",
    "auto_screenshot_process = multiprocessing.Process(target=auto_take_screenshot)\n",
    "auto_screenshot_process.start()\n",
    "\n",
    "# 監聽鍵盤事件\n",
    "with pynput.keyboard.Listener(on_press=on_press) as listener:\n",
    "    listener.join()\n"
   ]
  },
  {
   "cell_type": "code",
   "execution_count": null,
   "id": "d4a55dea",
   "metadata": {},
   "outputs": [],
   "source": [
    "#img_path = 'dataset/test.png'\n",
    "#img = image.load_img(img_path,target_size=(28, 28))\n",
    "#img_array = image.img_to_array(img)\n",
    "#img_array = np.expand_dims(img_array, axis=0)\n",
    "plt.imshow(img)\n",
    "plt.show()"
   ]
  },
  {
   "cell_type": "code",
   "execution_count": null,
   "id": "9e845ca8-a406-4ec3-9aca-904b7eed7305",
   "metadata": {},
   "outputs": [],
   "source": [
    "train_dataset = keras.preprocessing.image_dataset_from_directory('dataset', image_size=(28, 28))"
   ]
  },
  {
   "cell_type": "code",
   "execution_count": null,
   "id": "c07f1384",
   "metadata": {},
   "outputs": [],
   "source": [
    "model = keras.Sequential()\n",
    "model.add(layers.Input(shape=(28, 28, 3)))\n",
    "model.add(layers.Conv2D(16,(3,3),activation='relu'))\n",
    "model.add(layers.MaxPooling2D((2, 2)))\n",
    "model.add(layers.Flatten())\n",
    "model.add(layers.Dense(16, activation='relu'))\n",
    "model.add(layers.Dense(8, activation='relu'))\n",
    "model.add(layers.Dense(2,activation='softmax'))\n",
    "model.compile(optimizer='adam',\n",
    "              loss='sparse_categorical_crossentropy',\n",
    "              metrics=['accuracy'])"
   ]
  },
  {
   "cell_type": "code",
   "execution_count": null,
   "id": "3d8ab196",
   "metadata": {},
   "outputs": [],
   "source": [
    "model.fit(train_dataset,epochs=100)"
   ]
  },
  {
   "cell_type": "code",
   "execution_count": null,
   "id": "03c05514",
   "metadata": {},
   "outputs": [],
   "source": [
    "print(model.predict(img_array))"
   ]
  }
 ],
 "metadata": {
  "kernelspec": {
   "display_name": "base",
   "language": "python",
   "name": "python3"
  },
  "language_info": {
   "codemirror_mode": {
    "name": "ipython",
    "version": 3
   },
   "file_extension": ".py",
   "mimetype": "text/x-python",
   "name": "python",
   "nbconvert_exporter": "python",
   "pygments_lexer": "ipython3",
   "version": "3.11.7"
  }
 },
 "nbformat": 4,
 "nbformat_minor": 5
}
