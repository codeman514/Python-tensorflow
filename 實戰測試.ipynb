{
 "cells": [
  {
   "cell_type": "code",
   "execution_count": null,
   "id": "62a28106-186d-48d5-b5b6-a54a726b9054",
   "metadata": {},
   "outputs": [],
   "source": [
    "import tensorflow as tf\n",
    "from tensorflow.keras import layers\n",
    "from keras.preprocessing import image\n",
    "import tensorflow.keras as keras\n",
    "import numpy as np\n",
    "import matplotlib.pyplot as plt\n",
    "import os\n",
    "import pynput\n",
    "import time#暫停時間等功能\n",
    "import threading#多線程處理\n",
    "import keyboard#檢測鍵盤按鍵\n",
    "from PIL import ImageGrab#抓取螢幕截圖\n",
    "import uuid#隨機生成唯一ID"
   ]
  },
  {
   "cell_type": "code",
   "execution_count": null,
   "id": "b7d38c5d",
   "metadata": {},
   "outputs": [],
   "source": [
    "\n",
    "dataset_1_file = 'dataset/1'\n",
    "dataset_0_file = 'dataset/0'\n",
    "if not os.path.exists(dataset_1_file):\n",
    "        os.makedirs(dataset_1_file)\n",
    "if not os.path.exists(dataset_0_file):\n",
    "        os.makedirs(dataset_0_file)\n",
    "stop_event = threading.Event()\n",
    "\n",
    "def auto_take_screenshot():\n",
    "    while not stop_event.is_set():\n",
    "        data_name = os.path.join(dataset_0_file, f'0,{uuid.uuid4().hex}.png')\n",
    "        img = ImageGrab.grab((550, 500, 750, 600))  # 擷取螢幕指定區域\n",
    "        img.save(data_name)\n",
    "        time.sleep(0.2)  # 每秒截圖一次\n",
    "# 定義鍵盤監聽事件\n",
    "def on_press(key):\n",
    "    if key == pynput.keyboard.Key.shift:\n",
    "        stop_event.set()  # 設置停止事件\n",
    "        return False\n",
    "    if key == pynput.keyboard.Key.space:\n",
    "        data_name = os.path.join(dataset_1_file, f'1,{uuid.uuid4().hex}.png')\n",
    "        img = ImageGrab.grab((550, 500, 750, 600))  # 擷取螢幕指定區域\n",
    "        img.save(data_name)\n",
    "\n",
    "# 啟動截圖子進程\n",
    "auto_screenshot_process = threading.Thread(target=auto_take_screenshot)\n",
    "#auto_screenshot_process.start()\n",
    "\n",
    "# 監聽鍵盤事件 \n",
    "with pynput.keyboard.Listener(on_press=on_press) as listener:\n",
    "    listener.join()\n",
    "  "
   ]
  },
  {
   "cell_type": "code",
   "execution_count": null,
   "id": "9e845ca8-a406-4ec3-9aca-904b7eed7305",
   "metadata": {},
   "outputs": [],
   "source": [
    "train_dataset = keras.preprocessing.image_dataset_from_directory('dataset', image_size=(100, 200),validation_split=0.2, subset='training',seed=123)\n",
    "validation_dataset = keras.preprocessing.image_dataset_from_directory('dataset', image_size=(100, 200),validation_split=0.2, subset='validation',seed=123)\n",
    "train_dataset = train_dataset.map(lambda x, y: (x / 255.0, y))  # 正規化處理\n",
    "validation_dataset = validation_dataset.map(lambda x, y: (x / 255.0, y))  # 正規化處理"
   ]
  },
  {
   "cell_type": "code",
   "execution_count": null,
   "id": "c07f1384",
   "metadata": {},
   "outputs": [],
   "source": [
    "model = keras.Sequential()\n",
    "model.add(layers.Input(shape=(100, 200,3)))\n",
    "model.add(layers.Conv2D(32,(3,3),activation='relu'))\n",
    "model.add(layers.Conv2D(32,(3,3),activation='relu'))\n",
    "model.add(layers.MaxPooling2D((2, 2)))\n",
    "model.add(layers.Conv2D(64,(3,3),activation='relu'))\n",
    "model.add(layers.Conv2D(64,(3,3),activation='relu'))\n",
    "model.add(layers.MaxPooling2D((2, 2)))\n",
    "model.add(layers.Flatten())\n",
    "model.add(layers.Dense(64, activation='relu'))\n",
    "model.add(layers.Dense(64, activation='relu'))\n",
    "model.add(layers.Dense(1,activation='sigmoid'))\n",
    "model.compile(optimizer='adam',\n",
    "              loss='binary_crossentropy',\n",
    "              metrics=['accuracy'])"
   ]
  },
  {
   "cell_type": "code",
   "execution_count": null,
   "id": "645041f8",
   "metadata": {},
   "outputs": [],
   "source": [
    "model.fit(train_dataset,epochs=50, validation_data=validation_dataset)"
   ]
  },
  {
   "cell_type": "code",
   "execution_count": null,
   "id": "92ce26c9",
   "metadata": {},
   "outputs": [],
   "source": [
    "test_image = keras.preprocessing.image.load_img('dataset/test4.png', target_size=(100, 200))\n",
    "test_image = keras.preprocessing.image.img_to_array(test_image)\n",
    "test_image = test_image / 255.0  # 正規化處理\n",
    "test_image = np.expand_dims(test_image, axis=0)\n",
    "model.predict(test_image)"
   ]
  },
  {
   "cell_type": "code",
   "execution_count": null,
   "id": "0b59360f",
   "metadata": {},
   "outputs": [],
   "source": [
    "model = keras.models.load_model('jumpChrome.keras')  # 載入模型"
   ]
  },
  {
   "cell_type": "code",
   "execution_count": null,
   "id": "4b557693",
   "metadata": {},
   "outputs": [],
   "source": [
    "stop_event = threading.Event()\n",
    "def AI_screenshot():\n",
    "    while not stop_event.is_set():\n",
    "        img = ImageGrab.grab((550, 500, 750, 600))  # 擷取螢幕指定區域\n",
    "        img = keras.preprocessing.image.img_to_array(img)\n",
    "        img = img / 255.0  # 正規化處理\n",
    "        press = model.predict(np.expand_dims(img, axis=0))[0][0]\n",
    "        print(press)\n",
    "        if press > 0.5:\n",
    "            keyboard.press('space')\n",
    "        time.sleep(0.01)  # 每間隔截圖一次\n",
    "# 定義鍵盤監聽事件\n",
    "def on_press(key):\n",
    "    if key == pynput.keyboard.Key.shift:\n",
    "        stop_event.set()  # 設置停止事件\n",
    "        return False\n",
    "# 啟動截圖子進程\n",
    "AI_process = threading.Thread(target=AI_screenshot)\n",
    "AI_process.start()           \n",
    "# 監聽鍵盤事件\n",
    "with pynput.keyboard.Listener(on_press=on_press) as listener:\n",
    "    listener.join()"
   ]
  }
 ],
 "metadata": {
  "kernelspec": {
   "display_name": "base",
   "language": "python",
   "name": "python3"
  },
  "language_info": {
   "codemirror_mode": {
    "name": "ipython",
    "version": 3
   },
   "file_extension": ".py",
   "mimetype": "text/x-python",
   "name": "python",
   "nbconvert_exporter": "python",
   "pygments_lexer": "ipython3",
   "version": "3.11.7"
  }
 },
 "nbformat": 4,
 "nbformat_minor": 5
}
